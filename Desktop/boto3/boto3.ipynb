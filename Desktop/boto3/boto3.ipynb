{
 "cells": [
  {
   "cell_type": "code",
   "execution_count": 4,
   "id": "ad2d7bb2",
   "metadata": {},
   "outputs": [
    {
     "name": "stdout",
     "output_type": "stream",
     "text": [
      "Requirement already satisfied: boto3 in c:\\users\\amey\\anaconda3\\lib\\site-packages (1.22.13)\n",
      "Requirement already satisfied: botocore<1.26.0,>=1.25.13 in c:\\users\\amey\\anaconda3\\lib\\site-packages (from boto3) (1.25.13)\n",
      "Requirement already satisfied: jmespath<2.0.0,>=0.7.1 in c:\\users\\amey\\anaconda3\\lib\\site-packages (from boto3) (1.0.0)\n",
      "Requirement already satisfied: s3transfer<0.6.0,>=0.5.0 in c:\\users\\amey\\anaconda3\\lib\\site-packages (from boto3) (0.5.2)\n",
      "Requirement already satisfied: urllib3<1.27,>=1.25.4 in c:\\users\\amey\\anaconda3\\lib\\site-packages (from botocore<1.26.0,>=1.25.13->boto3) (1.26.7)\n",
      "Requirement already satisfied: python-dateutil<3.0.0,>=2.1 in c:\\users\\amey\\anaconda3\\lib\\site-packages (from botocore<1.26.0,>=1.25.13->boto3) (2.8.2)\n",
      "Requirement already satisfied: six>=1.5 in c:\\users\\amey\\anaconda3\\lib\\site-packages (from python-dateutil<3.0.0,>=2.1->botocore<1.26.0,>=1.25.13->boto3) (1.16.0)\n",
      "Note: you may need to restart the kernel to use updated packages.\n"
     ]
    }
   ],
   "source": [
    "pip install boto3"
   ]
  },
  {
   "cell_type": "code",
   "execution_count": 3,
   "id": "b04d714d",
   "metadata": {},
   "outputs": [],
   "source": [
    "import boto3"
   ]
  },
  {
   "cell_type": "code",
   "execution_count": null,
   "id": "6780194b",
   "metadata": {},
   "outputs": [],
   "source": [
    "#Create bucket in S3"
   ]
  },
  {
   "cell_type": "code",
   "execution_count": 5,
   "id": "2ba36bf1",
   "metadata": {},
   "outputs": [],
   "source": [
    "client = boto3.client('s3')"
   ]
  },
  {
   "cell_type": "code",
   "execution_count": 8,
   "id": "3502c918",
   "metadata": {},
   "outputs": [
    {
     "data": {
      "text/plain": [
       "{'ResponseMetadata': {'RequestId': 'MRKGEDCZRTNJE0NG',\n",
       "  'HostId': '1eC0Ogp3d6Ve2pWvtz0eNklVMlb/8kDwfzM1ktFnHgPBLEEQrCQ/1CRxkizP++t6+0W9AzInzsQ=',\n",
       "  'HTTPStatusCode': 200,\n",
       "  'HTTPHeaders': {'x-amz-id-2': '1eC0Ogp3d6Ve2pWvtz0eNklVMlb/8kDwfzM1ktFnHgPBLEEQrCQ/1CRxkizP++t6+0W9AzInzsQ=',\n",
       "   'x-amz-request-id': 'MRKGEDCZRTNJE0NG',\n",
       "   'date': 'Sun, 15 May 2022 05:59:14 GMT',\n",
       "   'location': '/new-bucket-ameya-boto3',\n",
       "   'server': 'AmazonS3',\n",
       "   'content-length': '0'},\n",
       "  'RetryAttempts': 0},\n",
       " 'Location': '/new-bucket-ameya-boto3'}"
      ]
     },
     "execution_count": 8,
     "metadata": {},
     "output_type": "execute_result"
    }
   ],
   "source": [
    "client.create_bucket(Bucket='new-bucket-ameya-boto3')"
   ]
  },
  {
   "cell_type": "code",
   "execution_count": 10,
   "id": "bf717ffa",
   "metadata": {},
   "outputs": [
    {
     "data": {
      "text/plain": [
       "{'ResponseMetadata': {'RequestId': 'F8AKSVKS3B1REV8P',\n",
       "  'HostId': '6cMiwn1zI8uh/FwN2D7n7ujvXKIJCU1wbDjkVmc8433Q1wLLeeYy5VSfFZhJ3/sOnrKYFlvzHak=',\n",
       "  'HTTPStatusCode': 200,\n",
       "  'HTTPHeaders': {'x-amz-id-2': '6cMiwn1zI8uh/FwN2D7n7ujvXKIJCU1wbDjkVmc8433Q1wLLeeYy5VSfFZhJ3/sOnrKYFlvzHak=',\n",
       "   'x-amz-request-id': 'F8AKSVKS3B1REV8P',\n",
       "   'date': 'Sun, 15 May 2022 06:02:55 GMT',\n",
       "   'content-type': 'application/xml',\n",
       "   'transfer-encoding': 'chunked',\n",
       "   'server': 'AmazonS3'},\n",
       "  'RetryAttempts': 0},\n",
       " 'Buckets': [{'Name': 'ameyabucket-for-lambda',\n",
       "   'CreationDate': datetime.datetime(2022, 4, 29, 7, 15, 12, tzinfo=tzutc())},\n",
       "  {'Name': 'mybucket-ameya',\n",
       "   'CreationDate': datetime.datetime(2022, 4, 20, 11, 38, 55, tzinfo=tzutc())},\n",
       "  {'Name': 'new-bucket-ameya-boto3',\n",
       "   'CreationDate': datetime.datetime(2022, 5, 15, 5, 55, 33, tzinfo=tzutc())},\n",
       "  {'Name': 's3-source-bucket-ameya',\n",
       "   'CreationDate': datetime.datetime(2022, 5, 4, 6, 54, 13, tzinfo=tzutc())}],\n",
       " 'Owner': {'DisplayName': 'ameyagodbole1',\n",
       "  'ID': 'b2ae3e8beb2a7d12d9fe64807188462de10e4e3dc5f5db59c85b578955fa7882'}}"
      ]
     },
     "execution_count": 10,
     "metadata": {},
     "output_type": "execute_result"
    }
   ],
   "source": [
    "response = client.list_buckets()\n",
    "response"
   ]
  },
  {
   "cell_type": "code",
   "execution_count": 12,
   "id": "7930bf8b",
   "metadata": {},
   "outputs": [],
   "source": [
    "#Uploading files to s3"
   ]
  },
  {
   "cell_type": "code",
   "execution_count": 27,
   "id": "4798673a",
   "metadata": {},
   "outputs": [],
   "source": [
    "def upload_files(file_name, bucket, object_name=None, args=None):\n",
    "    \n",
    "    if object_name is None:\n",
    "        object_name = file_name\n",
    "        \n",
    "    response = client.upload_file(file_name, bucket, object_name, ExtraArgs=args)\n",
    "    \n",
    "    return response"
   ]
  },
  {
   "cell_type": "code",
   "execution_count": 30,
   "id": "42fd9450",
   "metadata": {},
   "outputs": [],
   "source": [
    "upload_files('C:/Users/AMEY/Desktop/New folder/cloud.jpg', 'new-bucket-ameya-boto3')"
   ]
  },
  {
   "cell_type": "code",
   "execution_count": 32,
   "id": "758c4700",
   "metadata": {},
   "outputs": [],
   "source": [
    "# upload multiple files to s3"
   ]
  },
  {
   "cell_type": "code",
   "execution_count": 33,
   "id": "3e4a04cd",
   "metadata": {},
   "outputs": [],
   "source": [
    "import glob"
   ]
  },
  {
   "cell_type": "code",
   "execution_count": 34,
   "id": "0400893d",
   "metadata": {},
   "outputs": [
    {
     "data": {
      "text/plain": [
       "[]"
      ]
     },
     "execution_count": 34,
     "metadata": {},
     "output_type": "execute_result"
    }
   ],
   "source": [
    "files = glob.glob('New Folder/*')\n",
    "files"
   ]
  },
  {
   "cell_type": "code",
   "execution_count": 35,
   "id": "65258ac3",
   "metadata": {},
   "outputs": [],
   "source": [
    "for file in files:\n",
    "    upload_files(file, 'new-bucket-ameya-boto3' )"
   ]
  },
  {
   "cell_type": "code",
   "execution_count": 37,
   "id": "d1c02ccf",
   "metadata": {},
   "outputs": [],
   "source": [
    "# downloading files from s3"
   ]
  },
  {
   "cell_type": "code",
   "execution_count": 47,
   "id": "b22f4bd3",
   "metadata": {},
   "outputs": [],
   "source": [
    "s3 = boto3.resource('s3')"
   ]
  },
  {
   "cell_type": "code",
   "execution_count": null,
   "id": "5a0dd7e5",
   "metadata": {},
   "outputs": [],
   "source": [
    "client.put_bucket_website(Bucket = bucket_name, Websiteconfiguration = conf)"
   ]
  },
  {
   "cell_type": "code",
   "execution_count": 50,
   "id": "95715f12",
   "metadata": {},
   "outputs": [],
   "source": [
    "# host a static website in s3"
   ]
  },
  {
   "cell_type": "code",
   "execution_count": null,
   "id": "7f88ea94",
   "metadata": {},
   "outputs": [],
   "source": [
    "conf = {\n",
    "    'ErrorDocument': {'Key':'error.html'}\n",
    "    'IndexDocument': {'Suffix': 'index.html'}\n",
    "}"
   ]
  },
  {
   "cell_type": "code",
   "execution_count": 63,
   "id": "e7965046",
   "metadata": {},
   "outputs": [],
   "source": [
    "s3_client = boto3.client('s3')\n",
    "\n",
    "def transfer(file, source_bucket, dest_bucket):\n",
    "    \n",
    "    response = client.upload_file(file, dest_bucket)\n",
    "    \n",
    "    return response\n",
    "\n",
    "\n",
    "\n",
    "\n"
   ]
  },
  {
   "cell_type": "code",
   "execution_count": 64,
   "id": "8ec7965b",
   "metadata": {},
   "outputs": [],
   "source": [
    "for file in files:\n",
    "    transfer(file, 'new-bucket-ameya-boto3', 'arn:aws:glacier:us-east-1:094017221957:vaults/destination-for-backup')"
   ]
  },
  {
   "cell_type": "raw",
   "id": "b733c351",
   "metadata": {},
   "source": [
    "response"
   ]
  }
 ],
 "metadata": {
  "kernelspec": {
   "display_name": "Python 3 (ipykernel)",
   "language": "python",
   "name": "python3"
  },
  "language_info": {
   "codemirror_mode": {
    "name": "ipython",
    "version": 3
   },
   "file_extension": ".py",
   "mimetype": "text/x-python",
   "name": "python",
   "nbconvert_exporter": "python",
   "pygments_lexer": "ipython3",
   "version": "3.9.7"
  }
 },
 "nbformat": 4,
 "nbformat_minor": 5
}
